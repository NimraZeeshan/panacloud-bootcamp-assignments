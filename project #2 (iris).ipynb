{
 "cells": [
  {
   "cell_type": "markdown",
   "metadata": {},
   "source": [
    "# IRIS (DL project # 3)"
   ]
  },
  {
   "cell_type": "code",
   "execution_count": 1,
   "metadata": {},
   "outputs": [
    {
     "name": "stderr",
     "output_type": "stream",
     "text": [
      "/home/hp/miniconda3/lib/python3.6/site-packages/h5py/__init__.py:36: FutureWarning: Conversion of the second argument of issubdtype from `float` to `np.floating` is deprecated. In future, it will be treated as `np.float64 == np.dtype(float).type`.\n",
      "  from ._conv import register_converters as _register_converters\n",
      "Using TensorFlow backend.\n"
     ]
    }
   ],
   "source": [
    "import numpy\n",
    "import pandas\n",
    "from keras.models import Sequential\n",
    "from keras.layers import Dense\n",
    "from keras.wrappers.scikit_learn import KerasClassifier\n",
    "from keras.utils import np_utils\n",
    "from sklearn.model_selection import cross_val_score\n",
    "from sklearn.model_selection import KFold\n",
    "from sklearn.preprocessing import LabelEncoder\n",
    "from sklearn.pipeline import Pipeline\n",
    "from sklearn.model_selection import train_test_split"
   ]
  },
  {
   "cell_type": "code",
   "execution_count": 2,
   "metadata": {},
   "outputs": [],
   "source": [
    "# fix random seed for reproducibility\n",
    "seed = 7\n",
    "numpy.random.seed(seed)"
   ]
  },
  {
   "cell_type": "code",
   "execution_count": 23,
   "metadata": {},
   "outputs": [],
   "source": [
    "# load dataset\n",
    "dataframe = pandas.read_csv(\"iris.csv\", header=None)\n",
    "dataset = dataframe.values\n",
    "X = dataset[:,0:4].astype(float)\n",
    "Y = dataset[:,4]"
   ]
  },
  {
   "cell_type": "code",
   "execution_count": 24,
   "metadata": {
    "scrolled": true
   },
   "outputs": [],
   "source": [
    "# encode class values as integers\n",
    "encoder = LabelEncoder()\n",
    "encoder.fit(Y)\n",
    "encoded_Y = encoder.transform(Y)\n",
    "# convert integers to dummy variables (i.e. one hot encoded)\n",
    "dummy_y = np_utils.to_categorical(encoded_Y)"
   ]
  },
  {
   "cell_type": "markdown",
   "metadata": {},
   "source": [
    "# baseline model"
   ]
  },
  {
   "cell_type": "code",
   "execution_count": 5,
   "metadata": {},
   "outputs": [],
   "source": [
    "# define baseline model\n",
    "def baseline_model():\n",
    "                # create model\n",
    "                model = Sequential()\n",
    "                model.add(Dense(8,activation='relu',  input_shape=(X.shape[1],)))\n",
    "                model.add(Dense(3, activation='softmax'))\n",
    "                # Compile model\n",
    "                model.compile(optimizer='adam',loss='mse',metrics=['accuracy'])\n",
    "                return model\n",
    "\n",
    "model = baseline_model()"
   ]
  },
  {
   "cell_type": "code",
   "execution_count": 6,
   "metadata": {},
   "outputs": [],
   "source": [
    "estimator = KerasClassifier(build_fn=baseline_model, epochs=200, batch_size=5, verbose=0)"
   ]
  },
  {
   "cell_type": "markdown",
   "metadata": {},
   "source": [
    "# Step 4. Evaluate The Model with k-Fold Cross Validation"
   ]
  },
  {
   "cell_type": "code",
   "execution_count": 7,
   "metadata": {},
   "outputs": [],
   "source": [
    "kfold = KFold(n_splits=10, shuffle=True, random_state=seed)"
   ]
  },
  {
   "cell_type": "code",
   "execution_count": 8,
   "metadata": {},
   "outputs": [
    {
     "name": "stdout",
     "output_type": "stream",
     "text": [
      "Baseline: 94.67% (11.85%)\n"
     ]
    }
   ],
   "source": [
    "results = cross_val_score(estimator, X, dummy_y, cv=kfold)\n",
    "print(\"Baseline: %.2f%% (%.2f%%)\" % (results.mean()*100, results.std()*100))"
   ]
  },
  {
   "cell_type": "markdown",
   "metadata": {},
   "source": [
    "# Step 5. Tuning Layers and Number of Neurons in The Model"
   ]
  },
  {
   "cell_type": "markdown",
   "metadata": {},
   "source": [
    "### Step 5.1. Evaluate a Smaller Network"
   ]
  },
  {
   "cell_type": "code",
   "execution_count": 9,
   "metadata": {},
   "outputs": [
    {
     "name": "stdout",
     "output_type": "stream",
     "text": [
      "Baseline: 97.33% (3.27%)\n"
     ]
    }
   ],
   "source": [
    "def smaller():\n",
    "                # create model\n",
    "                model = Sequential()\n",
    "                model.add(Dense(4,activation='relu',  input_shape=(X.shape[1],)))\n",
    "                model.add(Dense(3, activation='softmax'))\n",
    "                # Compile model\n",
    "                model.compile(optimizer='adam',loss='mse',metrics=['accuracy'])\n",
    "                return model\n",
    "\n",
    "smaller_model = smaller()\n",
    "estimator = KerasClassifier(build_fn=baseline_model, epochs=200, batch_size=5, verbose=0)\n",
    "kfold = KFold(n_splits=10, shuffle=True, random_state=seed)\n",
    "results = cross_val_score(estimator, X, dummy_y, cv=kfold)\n",
    "print(\"Baseline: %.2f%% (%.2f%%)\" % (results.mean()*100, results.std()*100))"
   ]
  },
  {
   "cell_type": "markdown",
   "metadata": {},
   "source": [
    "### Step 5.2. Evaluate a Larger Network"
   ]
  },
  {
   "cell_type": "code",
   "execution_count": 10,
   "metadata": {
    "scrolled": true
   },
   "outputs": [
    {
     "name": "stdout",
     "output_type": "stream",
     "text": [
      "Baseline: 88.67% (21.30%)\n"
     ]
    }
   ],
   "source": [
    "def Larger():\n",
    "                # create model\n",
    "                model = Sequential()\n",
    "                model.add(Dense(8,activation='relu',  input_shape=(X.shape[1],)))\n",
    "                model.add(Dense(4, activation='relu'))\n",
    "                model.add(Dense(3, activation='softmax'))\n",
    "                # Compile model\n",
    "                model.compile(optimizer='adam',loss='mse',metrics=['accuracy'])\n",
    "                return model\n",
    "\n",
    "# Larger_model = Larger()\n",
    "estimator = KerasClassifier(build_fn=Larger, epochs=200, batch_size=5, verbose=0)\n",
    "kfold = KFold(n_splits=10, shuffle=True, random_state=seed)\n",
    "results = cross_val_score(estimator, X, dummy_y, cv=kfold)\n",
    "print(\"Baseline: %.2f%% (%.2f%%)\" % (results.mean()*100, results.std()*100))"
   ]
  },
  {
   "cell_type": "markdown",
   "metadata": {},
   "source": [
    "# Step 6. Really Scaling up: developing a model that overfits"
   ]
  },
  {
   "cell_type": "code",
   "execution_count": 25,
   "metadata": {
    "scrolled": true
   },
   "outputs": [
    {
     "data": {
      "image/png": "[encoded data removed]",
      "text/plain": [
       "<Figure size 432x288 with 1 Axes>"
      ]
     },
     "metadata": {},
     "output_type": "display_data"
    },
    {
     "name": "stdout",
     "output_type": "stream",
     "text": [
      "96.0 % accurecy\n"
     ]
    }
   ],
   "source": [
    "def overfit():\n",
    "                    # create model\n",
    "                    model = Sequential()\n",
    "                    model.add(Dense(20,activation='relu',  input_shape=(X.shape[1],)))\n",
    "                    model.add(Dense(12,activation='relu'))\n",
    "                    model.add(Dense(8,activation='relu'))\n",
    "                    model.add(Dense(3, activation='softmax'))\n",
    "                    # Compile model\n",
    "                    model.compile(optimizer='adam',loss='mse',metrics=['accuracy'])\n",
    "                    return model\n",
    "            \n",
    "history = []\n",
    "\n",
    "model = overfit()\n",
    "\n",
    "X_train, X_test, y_train, y_test       = train_test_split(X, dummy_y)\n",
    "# split train data into train and validation\n",
    "X_train, X_val, y_train, y_val  = train_test_split(X_train, y_train)\n",
    "\n",
    "history = model.fit(X_train, y_train,epochs=200,batch_size=5, verbose=False,validation_data=(X_val, y_val))\n",
    "import matplotlib.pyplot as plt\n",
    "plt.plot(history.history['acc'], 'bo', label='Training')\n",
    "plt.plot(history.history['val_acc'], 'b', label='Validation')\n",
    "plt.title('Training and validation Accurecy')\n",
    "plt.xlabel('Epochs')\n",
    "plt.ylabel('Accurecy')\n",
    "plt.legend()\n",
    "plt.show()\n",
    "print(round(history.history['acc'][-1]*100), '% accurecy')"
   ]
  },
  {
   "cell_type": "markdown",
   "metadata": {},
   "source": [
    "# Step 7. Tuning the Model"
   ]
  },
  {
   "cell_type": "code",
   "execution_count": 42,
   "metadata": {},
   "outputs": [
    {
     "data": {
      "image/png": "[encoded data removed]",
      "text/plain": [
       "<Figure size 432x288 with 1 Axes>"
      ]
     },
     "metadata": {},
     "output_type": "display_data"
    },
    {
     "name": "stdout",
     "output_type": "stream",
     "text": [
      "91.66666709241413 % accurecy\n"
     ]
    }
   ],
   "source": [
    "\n",
    "def Tuning():\n",
    "\n",
    "                # create model\n",
    "                model = Sequential()\n",
    "                model.add(Dense(8,activation='relu',  input_shape=(X.shape[1],)))\n",
    "                model.add(Dense(4, activation='relu'))\n",
    "                model.add(Dense(3, activation='softmax'))\n",
    "                # Compile model\n",
    "                model.compile(optimizer='adam',loss='mse',metrics=['accuracy'])\n",
    "                return model\n",
    "\n",
    "\n",
    "X_train, X_test, y_train, y_test       = train_test_split(X, dummy_y)\n",
    "# split train data into train and validation\n",
    "X_train, X_val, y_train, y_val  = train_test_split(X_train, y_train)\n",
    "\n",
    "model = Tuning()\n",
    "history = model.fit(X_train, y_train,epochs=10,batch_size=5, verbose=False,validation_data=(X_val, y_val))\n",
    "import matplotlib.pyplot as plt\n",
    "plt.plot(history.history['acc'], 'bo', label='Training')\n",
    "plt.plot(history.history['val_acc'], 'b', label='Validation')\n",
    "plt.title('Training and validation Accurecy')\n",
    "plt.xlabel('Epochs')\n",
    "plt.ylabel('Accurecy')\n",
    "plt.legend()\n",
    "plt.show()\n",
    "print(history.history['acc'][-1]*100, '% accurecy')"
   ]
  },
  {
   "cell_type": "markdown",
   "metadata": {},
   "source": [
    "# Step 8. Rewriting the code by doing Model Subclassing"
   ]
  },
  {
   "cell_type": "code",
   "execution_count": 38,
   "metadata": {},
   "outputs": [
    {
     "data": {
      "text/plain": [
       "<tensorflow.python.keras._impl.keras.callbacks.History at 0x7f798986a3c8>"
      ]
     },
     "execution_count": 38,
     "metadata": {},
     "output_type": "execute_result"
    }
   ],
   "source": [
    "# you should define your layers in __init__ and you should implement the model's forward pass in call.\n",
    "\n",
    "import tensorflow as tf\n",
    "import keras\n",
    "class MyModel(tf.keras.Model):\n",
    "    \n",
    "        def __init__(self):\n",
    "            \n",
    "                        super(MyModel, self).__init__()\n",
    "                        self.dense1 = Dense(8, activation=\"relu\")\n",
    "                        self.dense2 = Dense(4, activation='relu')\n",
    "                        self.dense3 = Dense(3)\n",
    "\n",
    "        def call(self, inputs):\n",
    "\n",
    "                        x = self.dense1(inputs)\n",
    "                        x = self.dense2(x)\n",
    "                        return self.dense3(x)\n",
    "                        \n",
    "                    \n",
    "model = MyModel()\n",
    "model.compile(optimizer='adam',loss='mse',metrics=['accuracy'])\n",
    "model.fit(X_train, y_train,epochs=51,batch_size=5, verbose=False,validation_data=(X_val, y_val))"
   ]
  },
  {
   "cell_type": "markdown",
   "metadata": {},
   "source": [
    "# Step 9. Rewriting the code without using scikit-learn\n",
    "### Once you have written the model in all three API style you are required to do k-fold cross validation without using scikit-learn library.\n"
   ]
  },
  {
   "cell_type": "code",
   "execution_count": 43,
   "metadata": {},
   "outputs": [
    {
     "name": "stdout",
     "output_type": "stream",
     "text": [
      "0.9545454531908035\n"
     ]
    }
   ],
   "source": [
    "import matplotlib.pyplot as plt\n",
    "import numpy as np\n",
    "# Data shufflYingdummy_y\n",
    "from random import shuffle\n",
    "ind_list = [i for i in range(len(X))]\n",
    "shuffle(ind_list)\n",
    "X  = X[ind_list]\n",
    "Y = dummy_y[ind_list]\n",
    "\n",
    "# Normalizing the data\n",
    "mean = X.mean(axis=0)\n",
    "X -= mean\n",
    "std = X.std(axis=0)\n",
    "X /= std\n",
    "\n",
    "\n",
    "test_x = X[:22]\n",
    "test_y= Y[:22]\n",
    "\n",
    "X = X[22:]\n",
    "Y = Y[22:]\n",
    "\n",
    "\n",
    "all_val_mae = []\n",
    "history = []\n",
    "\n",
    "k = 4\n",
    "num_val_samples = len(X) // k\n",
    "num_epochs = 50\n",
    "for i in range(k):\n",
    "                            val_data = X[i * num_val_samples: (i + 1) * num_val_samples]\n",
    "                            val_targets = Y[i * num_val_samples: (i + 1) * num_val_samples]\n",
    "                            partial_train_data = np.concatenate([X[:i * num_val_samples],X[(i + 1) * num_val_samples:]],axis=0)\n",
    "                            partial_train_targets = np.concatenate([Y[:i * num_val_samples],Y[(i + 1) * num_val_samples:]],axis=0)\n",
    "                            model =Tuning ()\n",
    "                            a = model.fit(partial_train_data, partial_train_targets,epochs=num_epochs, batch_size=5,shuffle=True, verbose=0,validation_data=(val_data, val_targets))\n",
    "                            history.append(a)\n",
    "                            a, b = model.evaluate(test_x, test_y, verbose=0)\n",
    "                            all_val_mae.append(b)\n",
    "\n",
    "print(np.mean( all_val_mae))"
   ]
  }
 ],
 "metadata": {
  "kernelspec": {
   "display_name": "Python 3",
   "language": "python",
   "name": "python3"
  },
  "language_info": {
   "codemirror_mode": {
    "name": "ipython",
    "version": 3
   },
   "file_extension": ".py",
   "mimetype": "text/x-python",
   "name": "python",
   "nbconvert_exporter": "python",
   "pygments_lexer": "ipython3",
   "version": "3.6.4"
  }
 },
 "nbformat": 4,
 "nbformat_minor": 2
}
