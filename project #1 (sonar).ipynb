{
 "cells": [
  {
   "cell_type": "markdown",
   "metadata": {},
   "source": [
    "# Step 2. Baseline Neural Network Model Performance\n",
    "## Let’s create a baseline model and result for this project."
   ]
  },
  {
   "cell_type": "markdown",
   "metadata": {},
   "source": [
    "### We will start off by importing all of the classes and functions we will need:"
   ]
  },
  {
   "cell_type": "code",
   "execution_count": 1,
   "metadata": {
    "scrolled": true
   },
   "outputs": [
    {
     "name": "stderr",
     "output_type": "stream",
     "text": [
      "/home/hp/miniconda3/lib/python3.6/site-packages/h5py/__init__.py:36: FutureWarning: Conversion of the second argument of issubdtype from `float` to `np.floating` is deprecated. In future, it will be treated as `np.float64 == np.dtype(float).type`.\n",
      "  from ._conv import register_converters as _register_converters\n",
      "Using TensorFlow backend.\n"
     ]
    }
   ],
   "source": [
    "import numpy as np\n",
    "import numpy\n",
    "import pandas\n",
    "from keras.models import Sequential\n",
    "from keras.layers import Dense\n",
    "from keras.wrappers.scikit_learn import KerasClassifier\n",
    "from sklearn.model_selection import cross_val_score\n",
    "from sklearn.preprocessing import LabelEncoder\n",
    "from sklearn.model_selection import StratifiedKFold\n",
    "from sklearn.preprocessing import StandardScaler\n",
    "from sklearn.pipeline import Pipeline\n",
    "from sklearn.model_selection import train_test_split"
   ]
  },
  {
   "cell_type": "markdown",
   "metadata": {},
   "source": [
    "# Next, we can initialize the random number generator to ensure that we always get the same results when executing this code. This will help if we are debugging:"
   ]
  },
  {
   "cell_type": "code",
   "execution_count": 2,
   "metadata": {},
   "outputs": [],
   "source": [
    "# fix random seed for reproducibility\n",
    "seed = 7\n",
    "np.random.seed(seed)"
   ]
  },
  {
   "cell_type": "markdown",
   "metadata": {},
   "source": [
    "# Now we can load the dataset using pandas and split the columns into 60 input variables (X) and 1 output variable (Y). We use pandas to load the data because it easily handles strings (the output variable), whereas attempting to load the data directly using NumPy would be more difficult."
   ]
  },
  {
   "cell_type": "code",
   "execution_count": 3,
   "metadata": {},
   "outputs": [],
   "source": [
    "# load dataset\n",
    "dataframe = pandas.read_csv(\"sonar.csv\", header=None)\n",
    "dataset = dataframe.values\n",
    "# split into input (X) and output (Y) variables\n",
    "X = dataset[:,0:60].astype(float)\n",
    "Y = dataset[:,60]"
   ]
  },
  {
   "cell_type": "markdown",
   "metadata": {},
   "source": [
    "# The output variable is string values. We must convert them into integer values 0 and 1."
   ]
  },
  {
   "cell_type": "code",
   "execution_count": 4,
   "metadata": {},
   "outputs": [],
   "source": [
    "le = LabelEncoder()\n",
    "a =  le.fit(Y)\n",
    "Y = a.transform(Y)"
   ]
  },
  {
   "cell_type": "markdown",
   "metadata": {},
   "source": [
    "### Let’s start off by defining the function that creates our baseline model. Our model will have a single fully connected hidden layer with the same number of neurons as input variables. This is a good default starting point when creating neural networks.\n",
    "### The weights are initialized using a small Gaussian random number. The Rectifier activation function is used. The output layer contains a single neuron in order to make predictions. It uses the sigmoid activation function in order to produce a probability output in the range of 0 to 1 that can easily and automatically be converted to crisp class values.\n",
    "### Finally, we are using the logarithmic loss function (binary_crossentropy) during training, the preferred loss function for binary classification problems. The model also uses the efficient Adam optimization algorithm for gradient. descent and accuracy metrics will be collected when the model is trained.\n"
   ]
  },
  {
   "cell_type": "code",
   "execution_count": 5,
   "metadata": {},
   "outputs": [],
   "source": [
    "def create_baseline():\n",
    "            # create model, write code below\n",
    "            sonar_model = Sequential()\n",
    "            sonar_model.add(Dense(30, kernel_initializer='random_uniform',activation='relu', input_dim=60))\n",
    "            sonar_model.add(Dense(1, activation='sigmoid'))\n",
    "            # Compile model, write code below\n",
    "            sonar_model.compile(loss='binary_crossentropy',optimizer='adam', metrics=['accuracy'])\n",
    "            return sonar_model"
   ]
  },
  {
   "cell_type": "markdown",
   "metadata": {},
   "source": [
    "### Now it is time to evaluate this model using stratified cross validation in the scikit-learn framework."
   ]
  },
  {
   "cell_type": "code",
   "execution_count": 6,
   "metadata": {},
   "outputs": [
    {
     "name": "stdout",
     "output_type": "stream",
     "text": [
      "Results: 78.32% (8.08%)\n"
     ]
    }
   ],
   "source": [
    "# evaluate model with standardized dataset\n",
    "estimator = KerasClassifier(build_fn=create_baseline, epochs=100, batch_size=5, verbose=0)\n",
    "kfold = StratifiedKFold(n_splits=10, shuffle=True, random_state=seed)\n",
    "results = cross_val_score(estimator, X, Y, cv=kfold)\n",
    "print(\"Results: %.2f%% (%.2f%%)\" % (results.mean()*100, results.std()*100))"
   ]
  },
  {
   "cell_type": "markdown",
   "metadata": {},
   "source": [
    "# Step 3. Re-Run The Baseline Model With Data Preparation"
   ]
  },
  {
   "cell_type": "code",
   "execution_count": 7,
   "metadata": {},
   "outputs": [
    {
     "name": "stdout",
     "output_type": "stream",
     "text": [
      "Standardized: 84.13% (6.43%)\n"
     ]
    }
   ],
   "source": [
    "# evaluate baseline model with standardized dataset\n",
    "numpy.random.seed(seed)\n",
    "estimators = []\n",
    "estimators.append(('standardize', StandardScaler()))\n",
    "estimators.append(('mlp', KerasClassifier(build_fn=create_baseline, epochs=100, batch_size=5, verbose=0)))\n",
    "pipeline = Pipeline(estimators)\n",
    "kfold = StratifiedKFold(n_splits=10, shuffle=True, random_state=seed)\n",
    "results = cross_val_score(pipeline, X, Y, cv=kfold)\n",
    "print(\"Standardized: %.2f%% (%.2f%%)\" % (results.mean()*100, results.std()*100))"
   ]
  },
  {
   "cell_type": "markdown",
   "metadata": {},
   "source": [
    "# Step 4. Tuning Layers and Number of Neurons in The Model"
   ]
  },
  {
   "cell_type": "markdown",
   "metadata": {},
   "source": [
    "### 4.1. Evaluate a Smaller Network"
   ]
  },
  {
   "cell_type": "code",
   "execution_count": 8,
   "metadata": {},
   "outputs": [
    {
     "name": "stdout",
     "output_type": "stream",
     "text": [
      "Smaller: 83.95% (8.47%)\n"
     ]
    }
   ],
   "source": [
    "def create_smaller():\n",
    "    # create model\n",
    "    sonar_model = Sequential()\n",
    "    sonar_model.add(Dense(15, activation='relu', input_dim=60))\n",
    "    sonar_model.add(Dense(1,activation='sigmoid'))\n",
    "    # Compile model\n",
    "    sonar_model.compile(loss='binary_crossentropy',optimizer='adam', metrics=['accuracy'])\n",
    "    return sonar_model\n",
    "\n",
    "\n",
    "estimators = []\n",
    "estimators.append(('standardize', StandardScaler()))\n",
    "estimators.append(('mlp', KerasClassifier(build_fn=create_smaller, epochs=20, batch_size=5, verbose=0)))\n",
    "pipeline = Pipeline(estimators)\n",
    "kfold = StratifiedKFold(n_splits=10, shuffle=True, random_state=seed)\n",
    "results = cross_val_score(pipeline, X, Y, cv=kfold)\n",
    "print(\"Smaller: %.2f%% (%.2f%%)\" % (results.mean()*100, results.std()*100))"
   ]
  },
  {
   "cell_type": "markdown",
   "metadata": {},
   "source": [
    "#  Step 4.2. Evaluate a Larger Network"
   ]
  },
  {
   "cell_type": "code",
   "execution_count": 9,
   "metadata": {},
   "outputs": [
    {
     "name": "stdout",
     "output_type": "stream",
     "text": [
      "Larger: 85.53% (3.66%)\n"
     ]
    }
   ],
   "source": [
    "def create_larger():\n",
    "                # create model\n",
    "                sonar_model = Sequential()\n",
    "                sonar_model.add(Dense(45, activation='relu', input_dim=60))\n",
    "                sonar_model.add(Dense(30, activation='relu'))\n",
    "                sonar_model.add(Dense(1,  activation='sigmoid'))\n",
    "                # Compile model\n",
    "                sonar_model.compile(loss='binary_crossentropy',optimizer='adam', metrics=['accuracy'])\n",
    "                return sonar_model\n",
    "            \n",
    "estimators = []\n",
    "estimators.append(('standardize', StandardScaler()))\n",
    "estimators.append(('mlp', KerasClassifier(build_fn=create_larger, epochs=20, batch_size=5, verbose=0)))\n",
    "pipeline = Pipeline(estimators)\n",
    "kfold = StratifiedKFold(n_splits=4, shuffle=True, random_state=seed)\n",
    "results = cross_val_score(pipeline, X, Y, cv=kfold)\n",
    "print(\"Larger: %.2f%% (%.2f%%)\" % (results.mean()*100, results.std()*100))"
   ]
  },
  {
   "cell_type": "markdown",
   "metadata": {},
   "source": [
    "# Step 5: Really Scaling up: developing a model that overfits"
   ]
  },
  {
   "cell_type": "code",
   "execution_count": 11,
   "metadata": {
    "scrolled": true
   },
   "outputs": [
    {
     "data": {
      "image/png": "[encoded data removed]",
      "text/plain": [
       "<Figure size 432x288 with 1 Axes>"
      ]
     },
     "metadata": {},
     "output_type": "display_data"
    },
    {
     "name": "stdout",
     "output_type": "stream",
     "text": [
      "90.0 % accurecy\n"
     ]
    },
    {
     "data": {
      "image/png": "[encoded data removed]",
      "text/plain": [
       "<Figure size 432x288 with 1 Axes>"
      ]
     },
     "metadata": {},
     "output_type": "display_data"
    },
    {
     "name": "stdout",
     "output_type": "stream",
     "text": [
      "91.0 % accurecy\n"
     ]
    },
    {
     "data": {
      "image/png": "[encoded data removed]",
      "text/plain": [
       "<Figure size 432x288 with 1 Axes>"
      ]
     },
     "metadata": {},
     "output_type": "display_data"
    },
    {
     "name": "stdout",
     "output_type": "stream",
     "text": [
      "94.0 % accurecy\n"
     ]
    },
    {
     "data": {
      "image/png": "[encoded data removed]",
      "text/plain": [
       "<Figure size 432x288 with 1 Axes>"
      ]
     },
     "metadata": {},
     "output_type": "display_data"
    },
    {
     "name": "stdout",
     "output_type": "stream",
     "text": [
      "87.0 % accurecy\n"
     ]
    },
    {
     "data": {
      "image/png": "[encoded data removed]",
      "text/plain": [
       "<Figure size 432x288 with 1 Axes>"
      ]
     },
     "metadata": {},
     "output_type": "display_data"
    },
    {
     "name": "stdout",
     "output_type": "stream",
     "text": [
      "90.0 % accurecy\n"
     ]
    }
   ],
   "source": [
    "\n",
    "np.random.seed(seed)\n",
    "def create_larger():\n",
    "                            # create model\n",
    "                            sonar_model = Sequential()\n",
    "                            sonar_model.add(Dense(60, activation='relu', input_dim=60))\n",
    "                            sonar_model.add(Dense(50, activation='relu'))\n",
    "                            sonar_model.add(Dense(30, activation='relu'))\n",
    "                            sonar_model.add(Dense(1,  activation='sigmoid'))\n",
    "                            # Compile model\n",
    "                            sonar_model.compile(loss='binary_crossentropy',\n",
    "                            optimizer='adam', \n",
    "                            metrics=['accuracy'])\n",
    "                            return sonar_model\n",
    "for i in range(5):\n",
    "                            my_model = create_larger()\n",
    "                            from sklearn.model_selection import train_test_split\n",
    "                            X_train, X_test, y_train, y_test       = train_test_split(X, Y)\n",
    "                            # split train data into train and validation\n",
    "                            X_train, X_val, y_train, y_val  = train_test_split(X_train, y_train)\n",
    "                            history = my_model.fit(X_train, y_train,epochs=20,batch_size=10, verbose=0,validation_data=(X_val, y_val))\n",
    "                            import matplotlib.pyplot as plt\n",
    "                            plt.plot(range(1, 21), history.history['acc'], 'bo', label='Training')\n",
    "                            plt.plot(range(1,21),history.history['val_acc'], 'b', label='Validation')\n",
    "                            plt.title('Training and validation Accurecy')\n",
    "                            plt.xlabel('Epochs')\n",
    "                            plt.ylabel('Accurecy')\n",
    "                            plt.legend()\n",
    "                            plt.show()\n",
    "                            print(round(history.history['acc'][-1]*100), '% accurecy')"
   ]
  },
  {
   "cell_type": "markdown",
   "metadata": {},
   "source": [
    "# Step 6: Tuning the Model"
   ]
  },
  {
   "cell_type": "code",
   "execution_count": 13,
   "metadata": {
    "scrolled": true
   },
   "outputs": [
    {
     "name": "stdout",
     "output_type": "stream",
     "text": [
      "86.0 % accurecy\n"
     ]
    },
    {
     "data": {
      "image/png": "[encoded data removed]",
      "text/plain": [
       "<Figure size 432x288 with 1 Axes>"
      ]
     },
     "metadata": {},
     "output_type": "display_data"
    }
   ],
   "source": [
    "def step_6():\n",
    "                        # create model\n",
    "                        sonar_model = Sequential()\n",
    "                        sonar_model.add(Dense(32, activation='relu', input_dim=60))\n",
    "                        sonar_model.add(Dense(1,  activation='sigmoid'))\n",
    "                        # Compile model\n",
    "                        sonar_model.compile(loss='binary_crossentropy',optimizer='rmsprop', metrics=['accuracy'])\n",
    "                        return sonar_model\n",
    "my_model = step_6()\n",
    "from sklearn.model_selection import train_test_split\n",
    "X_train, X_test, y_train, y_test       = train_test_split(X, Y)\n",
    "# split train data into train and validation\n",
    "X_train, X_val, y_train, y_val  = train_test_split(X_train, y_train)\n",
    "history = my_model.fit(X_train, y_train,epochs=20,batch_size=5, verbose=0,validation_data=(X_val, y_val))\n",
    "print(round(history.history['acc'][-1]*100), '% accurecy')\n",
    "import matplotlib.pyplot as plt\n",
    "plt.plot(range(1, 21), history.history['acc'], 'bo', label='Training')\n",
    "plt.plot(range(1,21),history.history['val_acc'], 'b', label='Validation')\n",
    "plt.title('Training and validation Accurecy')\n",
    "plt.xlabel('Epochs')\n",
    "plt.ylabel('Accurecy')\n",
    "plt.legend()\n",
    "plt.show()"
   ]
  },
  {
   "cell_type": "markdown",
   "metadata": {},
   "source": [
    "# Step 7: Rewriting the code using the Keras Functional API"
   ]
  },
  {
   "cell_type": "code",
   "execution_count": 14,
   "metadata": {
    "scrolled": true
   },
   "outputs": [
    {
     "name": "stdout",
     "output_type": "stream",
     "text": [
      "Smaller: 85.06% (3.05%)\n"
     ]
    }
   ],
   "source": [
    "import keras\n",
    "from keras import layers\n",
    "def kera_api_model():\n",
    "    # create model\n",
    "                    inputs = keras.Input(shape=(60,))\n",
    "                    x = layers.Dense(60, activation='relu')(inputs)\n",
    "                    x = layers.Dense(10, activation='relu')(x)\n",
    "                    outputs = layers.Dense(1, activation='sigmoid')(x)\n",
    "\n",
    "                    model = keras.Model(inputs, outputs)\n",
    "                     # Compile model\n",
    "                    model.compile(loss='binary_crossentropy', optimizer='adam',   metrics=['accuracy'])\n",
    "                \n",
    "                    return model\n",
    "\n",
    "estimators = []\n",
    "estimators.append(('standardize', StandardScaler()))\n",
    "# http://scikit-learn.org/stable/modules/generated/sklearn.preprocessing.StandardScaler.html\n",
    "# StandardScaler:\n",
    "# [TAJARBA] har column ki har value me sy us calumn ka mean <minus> kar deta h or phir har calumn k har value ko us \n",
    "          # column ki  std sy divide kar deta h..\n",
    "                        #mean_axis0 = np.mean(X[:, 0]) # pehly column ka mean ly lya\n",
    "                        #std_axis0 = np.std(X[:, 0])                 # pehly column ka std ly lya\n",
    "                        #X[:, 0] -= mean_axis0                                         # pehly column ki har value me sy pehly column ka mean minus kar dya\n",
    "                        #X[:, 0] /= std_axis0                                                # pehly column ki har value ko pehly column k std sy divide kar dya\n",
    "# Standardize features by removing the mean and scaling to unit variance.\n",
    "# Centering and scaling happen independently on each feature by computing the relevant statistics on the samples in the training set. Mean \n",
    "#and standard deviation are then stored to be used on later data using the transform` method.\n",
    "estimators.append(('mlp', KerasClassifier(build_fn=kera_api_model, epochs=20, batch_size=4, verbose=0)))\n",
    "#  KerasClassifier\n",
    "# Implementation of the scikit-learn classifier API for Keras.\n",
    "# Returns history  object details about the training history at each epoch.\n",
    "#  Constructs a new model with `build_fn` & fit the model to `(x, y)`.\n",
    "\n",
    "# build_fn: callable function or class instance\n",
    "#   https://keras.io/scikit-learn-api/\n",
    "        # build_fn should construct, compile and return a Keras model, which will then be used to fit/predict. \n",
    "        # One of the following three values could be passed to build_fn:\n",
    "                        # A function\n",
    "                        # An instance of a class that implements the __call__ method\n",
    "                        # None. This means you implement a class that inherits from either KerasClassifier or KerasRegressor. The __call__ method of the present class will then be treated as the default build_fn.\n",
    "\n",
    "pipeline = Pipeline(estimators)\n",
    "# Pipeline():\n",
    "#  Sequentially apply a list of transforms and a final estimator. \n",
    "# Intermediate steps of the pipeline must be 'transforms', that is, they must implement fit and transform methods.\n",
    " # The final estimator only needs to implement fit.\n",
    " # The transformers in the pipeline can be cached using ``memory`` argument.\n",
    "\n",
    "#The purpose of the pipeline is to assemble several steps that can be cross-validated together while setting different parameters.\n",
    "# For this, it enables setting parameters of the various steps using their names and the parameter name separated by a '__', as in the example below.\n",
    "# A step's estimator may be replaced entirely by setting the parameter with its name to another estimator, or a transformer removed by setting to None.\n",
    "\n",
    "#  steps : list\n",
    "# List of (name, transform) tuples (implementing fit/transform) that are chained, in the order in which they are chained, with the last object\n",
    "# an estimator.\n",
    "kfold = StratifiedKFold(n_splits=4, shuffle=True, random_state=seed)\n",
    "# StratifiedKFold: Stratified K-Folds cross-validator\n",
    "#  Provides train/test indices to split data in train/test sets.  \n",
    "# This cross-validation object is a variation of KFold that returns stratified folds. The folds are made by preserving the percentage of samples for\n",
    "# each class return:\n",
    "#train : ndarray, The training set indices for that split.\n",
    "# test : ndarray,  The testing set indices for that split.\n",
    "results = cross_val_score(pipeline, X, Y, cv=kfold)\n",
    "# http://scikit-learn.org/stable/modules/generated/sklearn.model_selection.cross_val_score.html\n",
    "# # cross_val_score:\n",
    "# # cross_val_score(estimator, X, y=None, groups=None, scoring=None, cv=None, n_jobs=1, verbose=0, fit_params=None, pre_dispatch='2*n_jobs')\n",
    "# # estimator : estimator object implementing 'fit'. The object to use to fit the data.\n",
    "# Returns: \n",
    "            # scores : array of float, shape=(len(list(cv)),)\n",
    "            # Array of scores of the estimator for each run of the cross validation.\n",
    "\n",
    "print(\"Smaller: %.2f%% (%.2f%%)\" % (results.mean()*100, results.std()*100))\n"
   ]
  },
  {
   "cell_type": "markdown",
   "metadata": {},
   "source": [
    "# Step 8: Rewriting the code by doing Model Subclassing"
   ]
  },
  {
   "cell_type": "code",
   "execution_count": 15,
   "metadata": {},
   "outputs": [
    {
     "data": {
      "text/plain": [
       "<tensorflow.python.keras._impl.keras.callbacks.History at 0x7f6093da9eb8>"
      ]
     },
     "execution_count": 15,
     "metadata": {},
     "output_type": "execute_result"
    }
   ],
   "source": [
    "# you should define your layers in __init__ and you should implement the model's forward pass in call.\n",
    "\n",
    "import tensorflow as tf\n",
    "import keras\n",
    "class MyModel(tf.keras.Model):\n",
    "    \n",
    "        def __init__(self):\n",
    "            \n",
    "                        super(MyModel, self).__init__()\n",
    "                        self.dense1 = Dense(60, activation=\"relu\")\n",
    "                        self.dense2 = Dense(10, activation='relu')\n",
    "                        self.dense3 = Dense(1, activation='sigmoid')\n",
    "\n",
    "        def call(self, inputs):\n",
    "\n",
    "                        x = self.dense1(inputs)\n",
    "                        x = self.dense2(x)\n",
    "                        return self.dense3(x)\n",
    "                        \n",
    "                    \n",
    "model = MyModel()\n",
    "model.compile(loss='binary_crossentropy', optimizer='adam',   metrics=['accuracy'])\n",
    "model.fit(X,Y, epochs=20, batch_size=4,verbose=False)"
   ]
  },
  {
   "cell_type": "markdown",
   "metadata": {},
   "source": [
    "# Step 9: Rewriting the code without using scikit-learn\n",
    "### Once you have written the model in all three API style you are required to do k-fold cross validation without using scikit-learn library."
   ]
  },
  {
   "cell_type": "code",
   "execution_count": 19,
   "metadata": {
    "scrolled": true
   },
   "outputs": [
    {
     "name": "stdout",
     "output_type": "stream",
     "text": [
      "0.7300000190734863\n"
     ]
    }
   ],
   "source": [
    "import matplotlib.pyplot as plt\n",
    "# Data shuffling\n",
    "from random import shuffle\n",
    "ind_list = [i for i in range(len(X))]\n",
    "shuffle(ind_list)\n",
    "X  = X[ind_list]\n",
    "Y = Y[ind_list]\n",
    "\n",
    "# Normalizing the data\n",
    "mean = X.mean(axis=0)\n",
    "X -= mean\n",
    "std = X.std(axis=0)\n",
    "X /= std\n",
    "\n",
    "# test data for validation\n",
    "test_X = X[:25]\n",
    "test_Y = Y[:25]\n",
    "\n",
    "\n",
    "X = X[25:]\n",
    "Y = Y[25:]\n",
    "\n",
    "all_val_mae = []\n",
    "history = []\n",
    "\n",
    "k = 4\n",
    "num_val_samples = len(X) // k\n",
    "num_epochs = 20\n",
    "for i in range(k):\n",
    "                            val_data = X[i * num_val_samples: (i + 1) * num_val_samples]\n",
    "                            val_targets = Y[i * num_val_samples: (i + 1) * num_val_samples]\n",
    "                            partial_train_data = np.concatenate([X[:i * num_val_samples],X[(i + 1) * num_val_samples:]],axis=0)\n",
    "                            partial_train_targets = np.concatenate([Y[:i * num_val_samples],Y[(i + 1) * num_val_samples:]],axis=0)\n",
    "                            model =kera_api_model ()\n",
    "                            a = model.fit(partial_train_data, partial_train_targets,epochs=num_epochs, batch_size=4,shuffle=True, verbose=0,validation_data=(val_data, val_targets))\n",
    "                            history.append(a)\n",
    "                            a, b = model.evaluate(test_X, test_Y, verbose=0)\n",
    "                            all_val_mae.append(b)\n",
    "print(np.mean(all_val_mae))"
   ]
  },
  {
   "cell_type": "code",
   "execution_count": null,
   "metadata": {},
   "outputs": [],
   "source": [
    "import os\n",
    "os.system('spd-say \"amir .......... your program has finished\"')"
   ]
  }
 ],
 "metadata": {
  "kernelspec": {
   "display_name": "Python 3",
   "language": "python",
   "name": "python3"
  },
  "language_info": {
   "codemirror_mode": {
    "name": "ipython",
    "version": 3
   },
   "file_extension": ".py",
   "mimetype": "text/x-python",
   "name": "python",
   "nbconvert_exporter": "python",
   "pygments_lexer": "ipython3",
   "version": "3.6.4"
  }
 },
 "nbformat": 4,
 "nbformat_minor": 2
}
